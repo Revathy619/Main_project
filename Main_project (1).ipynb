{
 "cells": [
  {
   "cell_type": "code",
   "execution_count": 1,
   "id": "64ca0893",
   "metadata": {},
   "outputs": [],
   "source": [
    "#importing the libraries\n",
    "import numpy as np\n",
    "import pandas as pd\n",
    "import matplotlib.pyplot as plt\n",
    "import seaborn as sns"
   ]
  },
  {
   "cell_type": "code",
   "execution_count": 2,
   "id": "4a8a7af2",
   "metadata": {},
   "outputs": [
    {
     "name": "stderr",
     "output_type": "stream",
     "text": [
      "C:\\Users\\Revathi\\anaconda3\\lib\\site-packages\\IPython\\core\\interactiveshell.py:3165: DtypeWarning: Columns (1,2,3,7,8,9,11,12,13,14,17,18,19) have mixed types.Specify dtype option on import or set low_memory=False.\n",
      "  has_raised = await self.run_ast_nodes(code_ast.body, cell_name,\n"
     ]
    },
    {
     "data": {
      "text/html": [
       "<div>\n",
       "<style scoped>\n",
       "    .dataframe tbody tr th:only-of-type {\n",
       "        vertical-align: middle;\n",
       "    }\n",
       "\n",
       "    .dataframe tbody tr th {\n",
       "        vertical-align: top;\n",
       "    }\n",
       "\n",
       "    .dataframe thead th {\n",
       "        text-align: right;\n",
       "    }\n",
       "</style>\n",
       "<table border=\"1\" class=\"dataframe\">\n",
       "  <thead>\n",
       "    <tr style=\"text-align: right;\">\n",
       "      <th></th>\n",
       "      <th>item_id</th>\n",
       "      <th>status</th>\n",
       "      <th>created_at</th>\n",
       "      <th>sku</th>\n",
       "      <th>price</th>\n",
       "      <th>qty_ordered</th>\n",
       "      <th>grand_total</th>\n",
       "      <th>increment_id</th>\n",
       "      <th>category_name_1</th>\n",
       "      <th>sales_commission_code</th>\n",
       "      <th>...</th>\n",
       "      <th>Month</th>\n",
       "      <th>Customer Since</th>\n",
       "      <th>M-Y</th>\n",
       "      <th>FY</th>\n",
       "      <th>Customer ID</th>\n",
       "      <th>Unnamed: 21</th>\n",
       "      <th>Unnamed: 22</th>\n",
       "      <th>Unnamed: 23</th>\n",
       "      <th>Unnamed: 24</th>\n",
       "      <th>Unnamed: 25</th>\n",
       "    </tr>\n",
       "  </thead>\n",
       "  <tbody>\n",
       "    <tr>\n",
       "      <th>0</th>\n",
       "      <td>211131.0</td>\n",
       "      <td>complete</td>\n",
       "      <td>7/1/2016</td>\n",
       "      <td>kreations_YI 06-L</td>\n",
       "      <td>1950.0</td>\n",
       "      <td>1.0</td>\n",
       "      <td>1950.0</td>\n",
       "      <td>100147443</td>\n",
       "      <td>Women's Fashion</td>\n",
       "      <td>\\N</td>\n",
       "      <td>...</td>\n",
       "      <td>7.0</td>\n",
       "      <td>2016-7</td>\n",
       "      <td>7-2016</td>\n",
       "      <td>FY17</td>\n",
       "      <td>1.0</td>\n",
       "      <td>NaN</td>\n",
       "      <td>NaN</td>\n",
       "      <td>NaN</td>\n",
       "      <td>NaN</td>\n",
       "      <td>NaN</td>\n",
       "    </tr>\n",
       "    <tr>\n",
       "      <th>1</th>\n",
       "      <td>211133.0</td>\n",
       "      <td>canceled</td>\n",
       "      <td>7/1/2016</td>\n",
       "      <td>kcc_Buy 2 Frey Air Freshener &amp; Get 1 Kasual Bo...</td>\n",
       "      <td>240.0</td>\n",
       "      <td>1.0</td>\n",
       "      <td>240.0</td>\n",
       "      <td>100147444</td>\n",
       "      <td>Beauty &amp; Grooming</td>\n",
       "      <td>\\N</td>\n",
       "      <td>...</td>\n",
       "      <td>7.0</td>\n",
       "      <td>2016-7</td>\n",
       "      <td>7-2016</td>\n",
       "      <td>FY17</td>\n",
       "      <td>2.0</td>\n",
       "      <td>NaN</td>\n",
       "      <td>NaN</td>\n",
       "      <td>NaN</td>\n",
       "      <td>NaN</td>\n",
       "      <td>NaN</td>\n",
       "    </tr>\n",
       "    <tr>\n",
       "      <th>2</th>\n",
       "      <td>211134.0</td>\n",
       "      <td>canceled</td>\n",
       "      <td>7/1/2016</td>\n",
       "      <td>Ego_UP0017-999-MR0</td>\n",
       "      <td>2450.0</td>\n",
       "      <td>1.0</td>\n",
       "      <td>2450.0</td>\n",
       "      <td>100147445</td>\n",
       "      <td>Women's Fashion</td>\n",
       "      <td>\\N</td>\n",
       "      <td>...</td>\n",
       "      <td>7.0</td>\n",
       "      <td>2016-7</td>\n",
       "      <td>7-2016</td>\n",
       "      <td>FY17</td>\n",
       "      <td>3.0</td>\n",
       "      <td>NaN</td>\n",
       "      <td>NaN</td>\n",
       "      <td>NaN</td>\n",
       "      <td>NaN</td>\n",
       "      <td>NaN</td>\n",
       "    </tr>\n",
       "    <tr>\n",
       "      <th>3</th>\n",
       "      <td>211135.0</td>\n",
       "      <td>complete</td>\n",
       "      <td>7/1/2016</td>\n",
       "      <td>kcc_krone deal</td>\n",
       "      <td>360.0</td>\n",
       "      <td>1.0</td>\n",
       "      <td>60.0</td>\n",
       "      <td>100147446</td>\n",
       "      <td>Beauty &amp; Grooming</td>\n",
       "      <td>R-FSD-52352</td>\n",
       "      <td>...</td>\n",
       "      <td>7.0</td>\n",
       "      <td>2016-7</td>\n",
       "      <td>7-2016</td>\n",
       "      <td>FY17</td>\n",
       "      <td>4.0</td>\n",
       "      <td>NaN</td>\n",
       "      <td>NaN</td>\n",
       "      <td>NaN</td>\n",
       "      <td>NaN</td>\n",
       "      <td>NaN</td>\n",
       "    </tr>\n",
       "    <tr>\n",
       "      <th>4</th>\n",
       "      <td>211136.0</td>\n",
       "      <td>order_refunded</td>\n",
       "      <td>7/1/2016</td>\n",
       "      <td>BK7010400AG</td>\n",
       "      <td>555.0</td>\n",
       "      <td>2.0</td>\n",
       "      <td>1110.0</td>\n",
       "      <td>100147447</td>\n",
       "      <td>Soghaat</td>\n",
       "      <td>\\N</td>\n",
       "      <td>...</td>\n",
       "      <td>7.0</td>\n",
       "      <td>2016-7</td>\n",
       "      <td>7-2016</td>\n",
       "      <td>FY17</td>\n",
       "      <td>5.0</td>\n",
       "      <td>NaN</td>\n",
       "      <td>NaN</td>\n",
       "      <td>NaN</td>\n",
       "      <td>NaN</td>\n",
       "      <td>NaN</td>\n",
       "    </tr>\n",
       "    <tr>\n",
       "      <th>5</th>\n",
       "      <td>211137.0</td>\n",
       "      <td>canceled</td>\n",
       "      <td>7/1/2016</td>\n",
       "      <td>UK_Namkino All In One 200 Gms</td>\n",
       "      <td>80.0</td>\n",
       "      <td>1.0</td>\n",
       "      <td>80.0</td>\n",
       "      <td>100147448</td>\n",
       "      <td>Soghaat</td>\n",
       "      <td>\\N</td>\n",
       "      <td>...</td>\n",
       "      <td>7.0</td>\n",
       "      <td>2016-7</td>\n",
       "      <td>7-2016</td>\n",
       "      <td>FY17</td>\n",
       "      <td>6.0</td>\n",
       "      <td>NaN</td>\n",
       "      <td>NaN</td>\n",
       "      <td>NaN</td>\n",
       "      <td>NaN</td>\n",
       "      <td>NaN</td>\n",
       "    </tr>\n",
       "    <tr>\n",
       "      <th>6</th>\n",
       "      <td>211138.0</td>\n",
       "      <td>complete</td>\n",
       "      <td>7/1/2016</td>\n",
       "      <td>kcc_krone deal</td>\n",
       "      <td>360.0</td>\n",
       "      <td>1.0</td>\n",
       "      <td>60.0</td>\n",
       "      <td>100147449</td>\n",
       "      <td>Beauty &amp; Grooming</td>\n",
       "      <td>\\N</td>\n",
       "      <td>...</td>\n",
       "      <td>7.0</td>\n",
       "      <td>2016-7</td>\n",
       "      <td>7-2016</td>\n",
       "      <td>FY17</td>\n",
       "      <td>7.0</td>\n",
       "      <td>NaN</td>\n",
       "      <td>NaN</td>\n",
       "      <td>NaN</td>\n",
       "      <td>NaN</td>\n",
       "      <td>NaN</td>\n",
       "    </tr>\n",
       "    <tr>\n",
       "      <th>7</th>\n",
       "      <td>211139.0</td>\n",
       "      <td>complete</td>\n",
       "      <td>7/1/2016</td>\n",
       "      <td>UK_Namkino Mix Nimco 400 Gms</td>\n",
       "      <td>170.0</td>\n",
       "      <td>1.0</td>\n",
       "      <td>170.0</td>\n",
       "      <td>100147450</td>\n",
       "      <td>Soghaat</td>\n",
       "      <td>\\N</td>\n",
       "      <td>...</td>\n",
       "      <td>7.0</td>\n",
       "      <td>2016-7</td>\n",
       "      <td>7-2016</td>\n",
       "      <td>FY17</td>\n",
       "      <td>6.0</td>\n",
       "      <td>NaN</td>\n",
       "      <td>NaN</td>\n",
       "      <td>NaN</td>\n",
       "      <td>NaN</td>\n",
       "      <td>NaN</td>\n",
       "    </tr>\n",
       "    <tr>\n",
       "      <th>8</th>\n",
       "      <td>211140.0</td>\n",
       "      <td>canceled</td>\n",
       "      <td>7/1/2016</td>\n",
       "      <td>Apple iPhone 6S 64GB</td>\n",
       "      <td>96499.0</td>\n",
       "      <td>1.0</td>\n",
       "      <td>96499.0</td>\n",
       "      <td>100147451</td>\n",
       "      <td>Mobiles &amp; Tablets</td>\n",
       "      <td>\\N</td>\n",
       "      <td>...</td>\n",
       "      <td>7.0</td>\n",
       "      <td>2016-7</td>\n",
       "      <td>7-2016</td>\n",
       "      <td>FY17</td>\n",
       "      <td>8.0</td>\n",
       "      <td>NaN</td>\n",
       "      <td>NaN</td>\n",
       "      <td>NaN</td>\n",
       "      <td>NaN</td>\n",
       "      <td>NaN</td>\n",
       "    </tr>\n",
       "    <tr>\n",
       "      <th>9</th>\n",
       "      <td>211141.0</td>\n",
       "      <td>canceled</td>\n",
       "      <td>7/1/2016</td>\n",
       "      <td>Apple iPhone 6S 64GB</td>\n",
       "      <td>96499.0</td>\n",
       "      <td>1.0</td>\n",
       "      <td>96499.0</td>\n",
       "      <td>100147452</td>\n",
       "      <td>Mobiles &amp; Tablets</td>\n",
       "      <td>\\N</td>\n",
       "      <td>...</td>\n",
       "      <td>7.0</td>\n",
       "      <td>2016-7</td>\n",
       "      <td>7-2016</td>\n",
       "      <td>FY17</td>\n",
       "      <td>8.0</td>\n",
       "      <td>NaN</td>\n",
       "      <td>NaN</td>\n",
       "      <td>NaN</td>\n",
       "      <td>NaN</td>\n",
       "      <td>NaN</td>\n",
       "    </tr>\n",
       "  </tbody>\n",
       "</table>\n",
       "<p>10 rows × 26 columns</p>\n",
       "</div>"
      ],
      "text/plain": [
       "    item_id          status created_at  \\\n",
       "0  211131.0        complete   7/1/2016   \n",
       "1  211133.0        canceled   7/1/2016   \n",
       "2  211134.0        canceled   7/1/2016   \n",
       "3  211135.0        complete   7/1/2016   \n",
       "4  211136.0  order_refunded   7/1/2016   \n",
       "5  211137.0        canceled   7/1/2016   \n",
       "6  211138.0        complete   7/1/2016   \n",
       "7  211139.0        complete   7/1/2016   \n",
       "8  211140.0        canceled   7/1/2016   \n",
       "9  211141.0        canceled   7/1/2016   \n",
       "\n",
       "                                                 sku    price  qty_ordered  \\\n",
       "0                                  kreations_YI 06-L   1950.0          1.0   \n",
       "1  kcc_Buy 2 Frey Air Freshener & Get 1 Kasual Bo...    240.0          1.0   \n",
       "2                                 Ego_UP0017-999-MR0   2450.0          1.0   \n",
       "3                                     kcc_krone deal    360.0          1.0   \n",
       "4                                        BK7010400AG    555.0          2.0   \n",
       "5                      UK_Namkino All In One 200 Gms     80.0          1.0   \n",
       "6                                     kcc_krone deal    360.0          1.0   \n",
       "7                       UK_Namkino Mix Nimco 400 Gms    170.0          1.0   \n",
       "8                               Apple iPhone 6S 64GB  96499.0          1.0   \n",
       "9                               Apple iPhone 6S 64GB  96499.0          1.0   \n",
       "\n",
       "   grand_total increment_id    category_name_1 sales_commission_code  ...  \\\n",
       "0       1950.0    100147443    Women's Fashion                    \\N  ...   \n",
       "1        240.0    100147444  Beauty & Grooming                    \\N  ...   \n",
       "2       2450.0    100147445    Women's Fashion                    \\N  ...   \n",
       "3         60.0    100147446  Beauty & Grooming           R-FSD-52352  ...   \n",
       "4       1110.0    100147447            Soghaat                    \\N  ...   \n",
       "5         80.0    100147448            Soghaat                    \\N  ...   \n",
       "6         60.0    100147449  Beauty & Grooming                    \\N  ...   \n",
       "7        170.0    100147450            Soghaat                    \\N  ...   \n",
       "8      96499.0    100147451  Mobiles & Tablets                    \\N  ...   \n",
       "9      96499.0    100147452  Mobiles & Tablets                    \\N  ...   \n",
       "\n",
       "   Month Customer Since     M-Y    FY Customer ID  Unnamed: 21  Unnamed: 22  \\\n",
       "0    7.0         2016-7  7-2016  FY17         1.0          NaN          NaN   \n",
       "1    7.0         2016-7  7-2016  FY17         2.0          NaN          NaN   \n",
       "2    7.0         2016-7  7-2016  FY17         3.0          NaN          NaN   \n",
       "3    7.0         2016-7  7-2016  FY17         4.0          NaN          NaN   \n",
       "4    7.0         2016-7  7-2016  FY17         5.0          NaN          NaN   \n",
       "5    7.0         2016-7  7-2016  FY17         6.0          NaN          NaN   \n",
       "6    7.0         2016-7  7-2016  FY17         7.0          NaN          NaN   \n",
       "7    7.0         2016-7  7-2016  FY17         6.0          NaN          NaN   \n",
       "8    7.0         2016-7  7-2016  FY17         8.0          NaN          NaN   \n",
       "9    7.0         2016-7  7-2016  FY17         8.0          NaN          NaN   \n",
       "\n",
       "  Unnamed: 23 Unnamed: 24 Unnamed: 25  \n",
       "0         NaN         NaN         NaN  \n",
       "1         NaN         NaN         NaN  \n",
       "2         NaN         NaN         NaN  \n",
       "3         NaN         NaN         NaN  \n",
       "4         NaN         NaN         NaN  \n",
       "5         NaN         NaN         NaN  \n",
       "6         NaN         NaN         NaN  \n",
       "7         NaN         NaN         NaN  \n",
       "8         NaN         NaN         NaN  \n",
       "9         NaN         NaN         NaN  \n",
       "\n",
       "[10 rows x 26 columns]"
      ]
     },
     "execution_count": 2,
     "metadata": {},
     "output_type": "execute_result"
    }
   ],
   "source": [
    "#Loading the dataset\n",
    "data = pd.read_csv(\"F:\\\\pythonprogramming\\\\Pakistan Largest Ecommerce Dataset.csv\")\n",
    "data.head(10) "
   ]
  },
  {
   "cell_type": "code",
   "execution_count": 3,
   "id": "3091383a",
   "metadata": {},
   "outputs": [
    {
     "data": {
      "text/plain": [
       "(1048575, 26)"
      ]
     },
     "execution_count": 3,
     "metadata": {},
     "output_type": "execute_result"
    }
   ],
   "source": [
    "#how many rows and columns\n",
    "data.shape"
   ]
  },
  {
   "cell_type": "code",
   "execution_count": 4,
   "id": "8599f13a",
   "metadata": {},
   "outputs": [
    {
     "name": "stdout",
     "output_type": "stream",
     "text": [
      "Variable   Type         Data/Info\n",
      "---------------------------------\n",
      "data       DataFrame              item_id        <...>048575 rows x 26 columns]\n",
      "np         module       <module 'numpy' from 'C:\\<...>ges\\\\numpy\\\\__init__.py'>\n",
      "pd         module       <module 'pandas' from 'C:<...>es\\\\pandas\\\\__init__.py'>\n",
      "plt        module       <module 'matplotlib.pyplo<...>\\\\matplotlib\\\\pyplot.py'>\n",
      "sns        module       <module 'seaborn' from 'C<...>s\\\\seaborn\\\\__init__.py'>\n"
     ]
    }
   ],
   "source": [
    "#what all variables and modules we have created or loaded into our computer memory\n",
    "%whos"
   ]
  },
  {
   "cell_type": "code",
   "execution_count": 5,
   "id": "c3ba50a9",
   "metadata": {},
   "outputs": [
    {
     "data": {
      "text/plain": [
       "item_id                  float64\n",
       "status                    object\n",
       "created_at                object\n",
       "sku                       object\n",
       "price                    float64\n",
       "qty_ordered              float64\n",
       "grand_total              float64\n",
       "increment_id              object\n",
       "category_name_1           object\n",
       "sales_commission_code     object\n",
       "discount_amount          float64\n",
       "payment_method            object\n",
       "Working Date              object\n",
       "BI Status                 object\n",
       " MV                       object\n",
       "Year                     float64\n",
       "Month                    float64\n",
       "Customer Since            object\n",
       "M-Y                       object\n",
       "FY                        object\n",
       "Customer ID              float64\n",
       "Unnamed: 21              float64\n",
       "Unnamed: 22              float64\n",
       "Unnamed: 23              float64\n",
       "Unnamed: 24              float64\n",
       "Unnamed: 25              float64\n",
       "dtype: object"
      ]
     },
     "execution_count": 5,
     "metadata": {},
     "output_type": "execute_result"
    }
   ],
   "source": [
    "# the datatypes\n",
    "data.dtypes"
   ]
  },
  {
   "cell_type": "code",
   "execution_count": 6,
   "id": "f38d179b",
   "metadata": {},
   "outputs": [
    {
     "data": {
      "text/plain": [
       "item_id                   464051\n",
       "status                    464066\n",
       "created_at                464051\n",
       "sku                       464071\n",
       "price                     464051\n",
       "qty_ordered               464051\n",
       "grand_total               464051\n",
       "increment_id              464051\n",
       "category_name_1           464215\n",
       "sales_commission_code     601226\n",
       "discount_amount           464051\n",
       "payment_method            464051\n",
       "Working Date              464051\n",
       "BI Status                 464051\n",
       " MV                       464051\n",
       "Year                      464051\n",
       "Month                     464051\n",
       "Customer Since            464062\n",
       "M-Y                       464051\n",
       "FY                        464051\n",
       "Customer ID               464062\n",
       "Unnamed: 21              1048575\n",
       "Unnamed: 22              1048575\n",
       "Unnamed: 23              1048575\n",
       "Unnamed: 24              1048575\n",
       "Unnamed: 25              1048575\n",
       "dtype: int64"
      ]
     },
     "execution_count": 6,
     "metadata": {},
     "output_type": "execute_result"
    }
   ],
   "source": [
    "# To verify if any null values present\n",
    "data.isnull().sum()"
   ]
  },
  {
   "cell_type": "code",
   "execution_count": 7,
   "id": "4299c203",
   "metadata": {},
   "outputs": [
    {
     "name": "stdout",
     "output_type": "stream",
     "text": [
      "<class 'pandas.core.frame.DataFrame'>\n",
      "RangeIndex: 1048575 entries, 0 to 1048574\n",
      "Data columns (total 26 columns):\n",
      " #   Column                 Non-Null Count   Dtype  \n",
      "---  ------                 --------------   -----  \n",
      " 0   item_id                584524 non-null  float64\n",
      " 1   status                 584509 non-null  object \n",
      " 2   created_at             584524 non-null  object \n",
      " 3   sku                    584504 non-null  object \n",
      " 4   price                  584524 non-null  float64\n",
      " 5   qty_ordered            584524 non-null  float64\n",
      " 6   grand_total            584524 non-null  float64\n",
      " 7   increment_id           584524 non-null  object \n",
      " 8   category_name_1        584360 non-null  object \n",
      " 9   sales_commission_code  447349 non-null  object \n",
      " 10  discount_amount        584524 non-null  float64\n",
      " 11  payment_method         584524 non-null  object \n",
      " 12  Working Date           584524 non-null  object \n",
      " 13  BI Status              584524 non-null  object \n",
      " 14   MV                    584524 non-null  object \n",
      " 15  Year                   584524 non-null  float64\n",
      " 16  Month                  584524 non-null  float64\n",
      " 17  Customer Since         584513 non-null  object \n",
      " 18  M-Y                    584524 non-null  object \n",
      " 19  FY                     584524 non-null  object \n",
      " 20  Customer ID            584513 non-null  float64\n",
      " 21  Unnamed: 21            0 non-null       float64\n",
      " 22  Unnamed: 22            0 non-null       float64\n",
      " 23  Unnamed: 23            0 non-null       float64\n",
      " 24  Unnamed: 24            0 non-null       float64\n",
      " 25  Unnamed: 25            0 non-null       float64\n",
      "dtypes: float64(13), object(13)\n",
      "memory usage: 208.0+ MB\n"
     ]
    }
   ],
   "source": [
    "data.info()"
   ]
  },
  {
   "cell_type": "code",
   "execution_count": 8,
   "id": "584cb272",
   "metadata": {},
   "outputs": [
    {
     "data": {
      "text/plain": [
       "Index(['item_id', 'status', 'created_at', 'sku', 'price', 'qty_ordered',\n",
       "       'grand_total', 'increment_id', 'category_name_1',\n",
       "       'sales_commission_code', 'discount_amount', 'payment_method',\n",
       "       'Working Date', 'BI Status', ' MV ', 'Year', 'Month', 'Customer Since',\n",
       "       'M-Y', 'FY', 'Customer ID', 'Unnamed: 21', 'Unnamed: 22', 'Unnamed: 23',\n",
       "       'Unnamed: 24', 'Unnamed: 25'],\n",
       "      dtype='object')"
      ]
     },
     "execution_count": 8,
     "metadata": {},
     "output_type": "execute_result"
    }
   ],
   "source": [
    "data.columns"
   ]
  },
  {
   "cell_type": "code",
   "execution_count": 9,
   "id": "be8be027",
   "metadata": {},
   "outputs": [],
   "source": [
    "#Droping off Un-necessary Columns -'Unnamed: 21', 'Unnamed: 22', 'Unnamed: 23', 'Unnamed: 24', 'Unnamed: 25'\n",
    "data = data.iloc[:, :-5]\n",
    "data = data.dropna(how = 'all') "
   ]
  },
  {
   "cell_type": "code",
   "execution_count": 10,
   "id": "b424efb6",
   "metadata": {},
   "outputs": [
    {
     "data": {
      "text/plain": [
       "Index(['item_id', 'status', 'created_at', 'sku', 'price', 'qty_ordered',\n",
       "       'grand_total', 'increment_id', 'category_name_1',\n",
       "       'sales_commission_code', 'discount_amount', 'payment_method',\n",
       "       'Working Date', 'BI Status', 'MV', 'Year', 'Month', 'Customer Since',\n",
       "       'M-Y', 'FY', 'Customer ID'],\n",
       "      dtype='object')"
      ]
     },
     "execution_count": 10,
     "metadata": {},
     "output_type": "execute_result"
    }
   ],
   "source": [
    "#MV column name contain space so changing the column name\n",
    "data.rename(columns={' MV ':'MV'},inplace=True)\n",
    "data.columns"
   ]
  },
  {
   "cell_type": "code",
   "execution_count": 11,
   "id": "59e7645f",
   "metadata": {},
   "outputs": [],
   "source": [
    "#As few columns are not in correct data type, we need to perform casting and change his data type\n",
    "data['item_id']=data['item_id'].astype(int)\n",
    "data['Customer ID']=data['Customer ID'].astype(str)\n",
    "data['qty_ordered']=data['qty_ordered'].astype(int)\n",
    "data['Year']=data['Year'].astype(int)\n",
    "data['Month']=data['Month'].astype(int)"
   ]
  },
  {
   "cell_type": "code",
   "execution_count": 12,
   "id": "cb5af701",
   "metadata": {},
   "outputs": [
    {
     "data": {
      "text/plain": [
       "Index(['item_id', 'status', 'created_at', 'sku', 'price', 'qty_ordered',\n",
       "       'grand_total', 'increment_id', 'Category', 'sales_commission_code',\n",
       "       'discount_amount', 'payment_method', 'Working Date', 'BI Status', 'MV',\n",
       "       'Year', 'Month', 'Customer Since', 'M-Y', 'FY', 'Customer ID'],\n",
       "      dtype='object')"
      ]
     },
     "execution_count": 12,
     "metadata": {},
     "output_type": "execute_result"
    }
   ],
   "source": [
    "#Change column name of category_name_1 to Category\n",
    "data.rename(columns={'category_name_1':'Category'},inplace=True)\n",
    "data.columns"
   ]
  },
  {
   "cell_type": "markdown",
   "id": "fc34a7bf",
   "metadata": {},
   "source": [
    "# Exploratory Data Analysis"
   ]
  },
  {
   "cell_type": "code",
   "execution_count": 13,
   "id": "4809560b",
   "metadata": {},
   "outputs": [
    {
     "data": {
      "text/html": [
       "<div>\n",
       "<style scoped>\n",
       "    .dataframe tbody tr th:only-of-type {\n",
       "        vertical-align: middle;\n",
       "    }\n",
       "\n",
       "    .dataframe tbody tr th {\n",
       "        vertical-align: top;\n",
       "    }\n",
       "\n",
       "    .dataframe thead th {\n",
       "        text-align: right;\n",
       "    }\n",
       "</style>\n",
       "<table border=\"1\" class=\"dataframe\">\n",
       "  <thead>\n",
       "    <tr style=\"text-align: right;\">\n",
       "      <th></th>\n",
       "      <th>item_id</th>\n",
       "      <th>price</th>\n",
       "      <th>qty_ordered</th>\n",
       "      <th>grand_total</th>\n",
       "      <th>discount_amount</th>\n",
       "      <th>Year</th>\n",
       "      <th>Month</th>\n",
       "    </tr>\n",
       "  </thead>\n",
       "  <tbody>\n",
       "    <tr>\n",
       "      <th>count</th>\n",
       "      <td>584524.000000</td>\n",
       "      <td>5.845240e+05</td>\n",
       "      <td>584524.000000</td>\n",
       "      <td>5.845240e+05</td>\n",
       "      <td>584524.000000</td>\n",
       "      <td>584524.000000</td>\n",
       "      <td>584524.000000</td>\n",
       "    </tr>\n",
       "    <tr>\n",
       "      <th>mean</th>\n",
       "      <td>565667.074218</td>\n",
       "      <td>6.348748e+03</td>\n",
       "      <td>1.296388</td>\n",
       "      <td>8.530619e+03</td>\n",
       "      <td>499.492775</td>\n",
       "      <td>2017.044115</td>\n",
       "      <td>7.167654</td>\n",
       "    </tr>\n",
       "    <tr>\n",
       "      <th>std</th>\n",
       "      <td>200121.173648</td>\n",
       "      <td>1.494927e+04</td>\n",
       "      <td>3.996061</td>\n",
       "      <td>6.132081e+04</td>\n",
       "      <td>1506.943046</td>\n",
       "      <td>0.707355</td>\n",
       "      <td>3.486305</td>\n",
       "    </tr>\n",
       "    <tr>\n",
       "      <th>min</th>\n",
       "      <td>211131.000000</td>\n",
       "      <td>0.000000e+00</td>\n",
       "      <td>1.000000</td>\n",
       "      <td>-1.594000e+03</td>\n",
       "      <td>-599.500000</td>\n",
       "      <td>2016.000000</td>\n",
       "      <td>1.000000</td>\n",
       "    </tr>\n",
       "    <tr>\n",
       "      <th>25%</th>\n",
       "      <td>395000.750000</td>\n",
       "      <td>3.600000e+02</td>\n",
       "      <td>1.000000</td>\n",
       "      <td>9.450000e+02</td>\n",
       "      <td>0.000000</td>\n",
       "      <td>2017.000000</td>\n",
       "      <td>4.000000</td>\n",
       "    </tr>\n",
       "    <tr>\n",
       "      <th>50%</th>\n",
       "      <td>568424.500000</td>\n",
       "      <td>8.990000e+02</td>\n",
       "      <td>1.000000</td>\n",
       "      <td>1.960400e+03</td>\n",
       "      <td>0.000000</td>\n",
       "      <td>2017.000000</td>\n",
       "      <td>7.000000</td>\n",
       "    </tr>\n",
       "    <tr>\n",
       "      <th>75%</th>\n",
       "      <td>739106.250000</td>\n",
       "      <td>4.070000e+03</td>\n",
       "      <td>1.000000</td>\n",
       "      <td>6.999000e+03</td>\n",
       "      <td>160.500000</td>\n",
       "      <td>2018.000000</td>\n",
       "      <td>11.000000</td>\n",
       "    </tr>\n",
       "    <tr>\n",
       "      <th>max</th>\n",
       "      <td>905208.000000</td>\n",
       "      <td>1.012626e+06</td>\n",
       "      <td>1000.000000</td>\n",
       "      <td>1.788800e+07</td>\n",
       "      <td>90300.000000</td>\n",
       "      <td>2018.000000</td>\n",
       "      <td>12.000000</td>\n",
       "    </tr>\n",
       "  </tbody>\n",
       "</table>\n",
       "</div>"
      ],
      "text/plain": [
       "             item_id         price    qty_ordered   grand_total  \\\n",
       "count  584524.000000  5.845240e+05  584524.000000  5.845240e+05   \n",
       "mean   565667.074218  6.348748e+03       1.296388  8.530619e+03   \n",
       "std    200121.173648  1.494927e+04       3.996061  6.132081e+04   \n",
       "min    211131.000000  0.000000e+00       1.000000 -1.594000e+03   \n",
       "25%    395000.750000  3.600000e+02       1.000000  9.450000e+02   \n",
       "50%    568424.500000  8.990000e+02       1.000000  1.960400e+03   \n",
       "75%    739106.250000  4.070000e+03       1.000000  6.999000e+03   \n",
       "max    905208.000000  1.012626e+06    1000.000000  1.788800e+07   \n",
       "\n",
       "       discount_amount           Year          Month  \n",
       "count    584524.000000  584524.000000  584524.000000  \n",
       "mean        499.492775    2017.044115       7.167654  \n",
       "std        1506.943046       0.707355       3.486305  \n",
       "min        -599.500000    2016.000000       1.000000  \n",
       "25%           0.000000    2017.000000       4.000000  \n",
       "50%           0.000000    2017.000000       7.000000  \n",
       "75%         160.500000    2018.000000      11.000000  \n",
       "max       90300.000000    2018.000000      12.000000  "
      ]
     },
     "execution_count": 13,
     "metadata": {},
     "output_type": "execute_result"
    }
   ],
   "source": [
    "#Data Summary of numeric data\n",
    "data.describe()"
   ]
  },
  {
   "cell_type": "code",
   "execution_count": 14,
   "id": "d9487af2",
   "metadata": {},
   "outputs": [
    {
     "data": {
      "text/html": [
       "<div>\n",
       "<style scoped>\n",
       "    .dataframe tbody tr th:only-of-type {\n",
       "        vertical-align: middle;\n",
       "    }\n",
       "\n",
       "    .dataframe tbody tr th {\n",
       "        vertical-align: top;\n",
       "    }\n",
       "\n",
       "    .dataframe thead th {\n",
       "        text-align: right;\n",
       "    }\n",
       "</style>\n",
       "<table border=\"1\" class=\"dataframe\">\n",
       "  <thead>\n",
       "    <tr style=\"text-align: right;\">\n",
       "      <th></th>\n",
       "      <th>status</th>\n",
       "      <th>created_at</th>\n",
       "      <th>sku</th>\n",
       "      <th>increment_id</th>\n",
       "      <th>Category</th>\n",
       "      <th>sales_commission_code</th>\n",
       "      <th>payment_method</th>\n",
       "      <th>Working Date</th>\n",
       "      <th>BI Status</th>\n",
       "      <th>MV</th>\n",
       "      <th>Customer Since</th>\n",
       "      <th>M-Y</th>\n",
       "      <th>FY</th>\n",
       "      <th>Customer ID</th>\n",
       "    </tr>\n",
       "  </thead>\n",
       "  <tbody>\n",
       "    <tr>\n",
       "      <th>count</th>\n",
       "      <td>584509</td>\n",
       "      <td>584524</td>\n",
       "      <td>584504</td>\n",
       "      <td>584524</td>\n",
       "      <td>584360</td>\n",
       "      <td>447349</td>\n",
       "      <td>584524</td>\n",
       "      <td>584524</td>\n",
       "      <td>584524</td>\n",
       "      <td>584524</td>\n",
       "      <td>584513</td>\n",
       "      <td>584524</td>\n",
       "      <td>584524</td>\n",
       "      <td>584524</td>\n",
       "    </tr>\n",
       "    <tr>\n",
       "      <th>unique</th>\n",
       "      <td>16</td>\n",
       "      <td>789</td>\n",
       "      <td>84889</td>\n",
       "      <td>408785</td>\n",
       "      <td>16</td>\n",
       "      <td>7226</td>\n",
       "      <td>18</td>\n",
       "      <td>789</td>\n",
       "      <td>4</td>\n",
       "      <td>9720</td>\n",
       "      <td>26</td>\n",
       "      <td>26</td>\n",
       "      <td>3</td>\n",
       "      <td>115327</td>\n",
       "    </tr>\n",
       "    <tr>\n",
       "      <th>top</th>\n",
       "      <td>complete</td>\n",
       "      <td>11/25/2016</td>\n",
       "      <td>MATSAM59DB75ADB2F80</td>\n",
       "      <td>100266667</td>\n",
       "      <td>Mobiles &amp; Tablets</td>\n",
       "      <td>\\N</td>\n",
       "      <td>cod</td>\n",
       "      <td>11/25/2016</td>\n",
       "      <td>Net</td>\n",
       "      <td>999</td>\n",
       "      <td>2016-11</td>\n",
       "      <td>11-2017</td>\n",
       "      <td>FY18</td>\n",
       "      <td>85775.0</td>\n",
       "    </tr>\n",
       "    <tr>\n",
       "      <th>freq</th>\n",
       "      <td>233685</td>\n",
       "      <td>15169</td>\n",
       "      <td>3775</td>\n",
       "      <td>72</td>\n",
       "      <td>115710</td>\n",
       "      <td>339001</td>\n",
       "      <td>271960</td>\n",
       "      <td>15169</td>\n",
       "      <td>234178</td>\n",
       "      <td>9516</td>\n",
       "      <td>82714</td>\n",
       "      <td>83928</td>\n",
       "      <td>306883</td>\n",
       "      <td>2524</td>\n",
       "    </tr>\n",
       "  </tbody>\n",
       "</table>\n",
       "</div>"
      ],
      "text/plain": [
       "          status  created_at                  sku increment_id  \\\n",
       "count     584509      584524               584504       584524   \n",
       "unique        16         789                84889       408785   \n",
       "top     complete  11/25/2016  MATSAM59DB75ADB2F80    100266667   \n",
       "freq      233685       15169                 3775           72   \n",
       "\n",
       "                 Category sales_commission_code payment_method Working Date  \\\n",
       "count              584360                447349         584524       584524   \n",
       "unique                 16                  7226             18          789   \n",
       "top     Mobiles & Tablets                    \\N            cod   11/25/2016   \n",
       "freq               115710                339001         271960        15169   \n",
       "\n",
       "       BI Status      MV Customer Since      M-Y      FY Customer ID  \n",
       "count     584524  584524         584513   584524  584524      584524  \n",
       "unique         4    9720             26       26       3      115327  \n",
       "top          Net    999         2016-11  11-2017    FY18     85775.0  \n",
       "freq      234178    9516          82714    83928  306883        2524  "
      ]
     },
     "execution_count": 14,
     "metadata": {},
     "output_type": "execute_result"
    }
   ],
   "source": [
    "#Data Summary of non-numeric data\n",
    "data.describe(include=['object', 'bool'])"
   ]
  },
  {
   "cell_type": "markdown",
   "id": "da0f7634",
   "metadata": {},
   "source": [
    "1.Visualize Payment Methods versus Order Status"
   ]
  },
  {
   "cell_type": "code",
   "execution_count": 25,
   "id": "cc98cf80",
   "metadata": {},
   "outputs": [
    {
     "data": {
      "text/plain": [
       "complete          233685\n",
       "canceled          201249\n",
       "received           77290\n",
       "order_refunded     59529\n",
       "refund              8050\n",
       "cod                 2859\n",
       "paid                1159\n",
       "closed               494\n",
       "payment_review        57\n",
       "pending               48\n",
       "processing            33\n",
       "holded                31\n",
       "fraud                 10\n",
       "pending_paypal         7\n",
       "\\N                     4\n",
       "exchange               4\n",
       "Name: status, dtype: int64"
      ]
     },
     "execution_count": 25,
     "metadata": {},
     "output_type": "execute_result"
    }
   ],
   "source": [
    "data[\"status\"].value_counts()"
   ]
  },
  {
   "cell_type": "code",
   "execution_count": 26,
   "id": "2ac12cca",
   "metadata": {},
   "outputs": [
    {
     "data": {
      "image/png": "[encoded data removed]",
      "text/plain": [
       "<Figure size 864x432 with 1 Axes>"
      ]
     },
     "metadata": {
      "needs_background": "light"
     },
     "output_type": "display_data"
    }
   ],
   "source": [
    "data[\"status\"].value_counts().plot.bar(figsize = (12,6) , title = \"Order Status Frequency\",color='pink' )\n",
    "plt.xlabel(\"status category\")\n",
    "plt.ylabel(\"total counts\")\n",
    "plt.show()"
   ]
  },
  {
   "cell_type": "markdown",
   "id": "23529f4f",
   "metadata": {},
   "source": [
    "2. a. Plot corelation between completed orders and Payment Methods"
   ]
  },
  {
   "cell_type": "code",
   "execution_count": 29,
   "id": "142732a9",
   "metadata": {},
   "outputs": [
    {
     "data": {
      "text/html": [
       "<div>\n",
       "<style scoped>\n",
       "    .dataframe tbody tr th:only-of-type {\n",
       "        vertical-align: middle;\n",
       "    }\n",
       "\n",
       "    .dataframe tbody tr th {\n",
       "        vertical-align: top;\n",
       "    }\n",
       "\n",
       "    .dataframe thead th {\n",
       "        text-align: right;\n",
       "    }\n",
       "</style>\n",
       "<table border=\"1\" class=\"dataframe\">\n",
       "  <thead>\n",
       "    <tr style=\"text-align: right;\">\n",
       "      <th></th>\n",
       "      <th>payment_method</th>\n",
       "    </tr>\n",
       "  </thead>\n",
       "  <tbody>\n",
       "    <tr>\n",
       "      <th>cod</th>\n",
       "      <td>148039</td>\n",
       "    </tr>\n",
       "    <tr>\n",
       "      <th>Payaxis</th>\n",
       "      <td>22809</td>\n",
       "    </tr>\n",
       "    <tr>\n",
       "      <th>Easypay</th>\n",
       "      <td>19214</td>\n",
       "    </tr>\n",
       "    <tr>\n",
       "      <th>easypay_voucher</th>\n",
       "      <td>16066</td>\n",
       "    </tr>\n",
       "    <tr>\n",
       "      <th>jazzwallet</th>\n",
       "      <td>13505</td>\n",
       "    </tr>\n",
       "    <tr>\n",
       "      <th>jazzvoucher</th>\n",
       "      <td>4619</td>\n",
       "    </tr>\n",
       "    <tr>\n",
       "      <th>customercredit</th>\n",
       "      <td>4151</td>\n",
       "    </tr>\n",
       "    <tr>\n",
       "      <th>Easypay_MA</th>\n",
       "      <td>3116</td>\n",
       "    </tr>\n",
       "    <tr>\n",
       "      <th>cashatdoorstep</th>\n",
       "      <td>674</td>\n",
       "    </tr>\n",
       "    <tr>\n",
       "      <th>bankalfalah</th>\n",
       "      <td>586</td>\n",
       "    </tr>\n",
       "    <tr>\n",
       "      <th>mcblite</th>\n",
       "      <td>393</td>\n",
       "    </tr>\n",
       "    <tr>\n",
       "      <th>ublcreditcard</th>\n",
       "      <td>182</td>\n",
       "    </tr>\n",
       "    <tr>\n",
       "      <th>internetbanking</th>\n",
       "      <td>156</td>\n",
       "    </tr>\n",
       "    <tr>\n",
       "      <th>productcredit</th>\n",
       "      <td>83</td>\n",
       "    </tr>\n",
       "    <tr>\n",
       "      <th>marketingexpense</th>\n",
       "      <td>42</td>\n",
       "    </tr>\n",
       "    <tr>\n",
       "      <th>apg</th>\n",
       "      <td>27</td>\n",
       "    </tr>\n",
       "    <tr>\n",
       "      <th>mygateway</th>\n",
       "      <td>14</td>\n",
       "    </tr>\n",
       "    <tr>\n",
       "      <th>financesettlement</th>\n",
       "      <td>9</td>\n",
       "    </tr>\n",
       "  </tbody>\n",
       "</table>\n",
       "</div>"
      ],
      "text/plain": [
       "                   payment_method\n",
       "cod                        148039\n",
       "Payaxis                     22809\n",
       "Easypay                     19214\n",
       "easypay_voucher             16066\n",
       "jazzwallet                  13505\n",
       "jazzvoucher                  4619\n",
       "customercredit               4151\n",
       "Easypay_MA                   3116\n",
       "cashatdoorstep                674\n",
       "bankalfalah                   586\n",
       "mcblite                       393\n",
       "ublcreditcard                 182\n",
       "internetbanking               156\n",
       "productcredit                  83\n",
       "marketingexpense               42\n",
       "apg                            27\n",
       "mygateway                      14\n",
       "financesettlement               9"
      ]
     },
     "execution_count": 29,
     "metadata": {},
     "output_type": "execute_result"
    }
   ],
   "source": [
    "corr_comp = data.loc[data[\"status\"] == \"complete\"][\"payment_method\"].value_counts().to_frame(\"payment_method\")\n",
    "corr_comp"
   ]
  },
  {
   "cell_type": "code",
   "execution_count": 30,
   "id": "87fdf598",
   "metadata": {},
   "outputs": [
    {
     "data": {
      "image/png": "[encoded data removed]",
      "text/plain": [
       "<Figure size 864x432 with 1 Axes>"
      ]
     },
     "metadata": {
      "needs_background": "light"
     },
     "output_type": "display_data"
    }
   ],
   "source": [
    "corr_comp.plot.bar(figsize = (12,6) , title = \"Payment Methods vs. Completed Order\",color='pink')\n",
    "plt.xlabel(\"Payment Methods\")\n",
    "plt.ylabel(\"Number of Completed Orders\")\n",
    "plt.show()"
   ]
  },
  {
   "cell_type": "markdown",
   "id": "39e9abf0",
   "metadata": {},
   "source": [
    "2. b. Plot corelation between cancelled orders and Payment Methods"
   ]
  },
  {
   "cell_type": "code",
   "execution_count": 33,
   "id": "e6359b80",
   "metadata": {},
   "outputs": [
    {
     "data": {
      "text/html": [
       "<div>\n",
       "<style scoped>\n",
       "    .dataframe tbody tr th:only-of-type {\n",
       "        vertical-align: middle;\n",
       "    }\n",
       "\n",
       "    .dataframe tbody tr th {\n",
       "        vertical-align: top;\n",
       "    }\n",
       "\n",
       "    .dataframe thead th {\n",
       "        text-align: right;\n",
       "    }\n",
       "</style>\n",
       "<table border=\"1\" class=\"dataframe\">\n",
       "  <thead>\n",
       "    <tr style=\"text-align: right;\">\n",
       "      <th></th>\n",
       "      <th>payment_method</th>\n",
       "    </tr>\n",
       "  </thead>\n",
       "  <tbody>\n",
       "    <tr>\n",
       "      <th>Payaxis</th>\n",
       "      <td>61267</td>\n",
       "    </tr>\n",
       "    <tr>\n",
       "      <th>Easypay</th>\n",
       "      <td>52040</td>\n",
       "    </tr>\n",
       "    <tr>\n",
       "      <th>cod</th>\n",
       "      <td>21753</td>\n",
       "    </tr>\n",
       "    <tr>\n",
       "      <th>jazzwallet</th>\n",
       "      <td>16933</td>\n",
       "    </tr>\n",
       "    <tr>\n",
       "      <th>bankalfalah</th>\n",
       "      <td>16184</td>\n",
       "    </tr>\n",
       "    <tr>\n",
       "      <th>easypay_voucher</th>\n",
       "      <td>12189</td>\n",
       "    </tr>\n",
       "    <tr>\n",
       "      <th>Easypay_MA</th>\n",
       "      <td>9210</td>\n",
       "    </tr>\n",
       "    <tr>\n",
       "      <th>jazzvoucher</th>\n",
       "      <td>8472</td>\n",
       "    </tr>\n",
       "    <tr>\n",
       "      <th>apg</th>\n",
       "      <td>1361</td>\n",
       "    </tr>\n",
       "    <tr>\n",
       "      <th>ublcreditcard</th>\n",
       "      <td>660</td>\n",
       "    </tr>\n",
       "    <tr>\n",
       "      <th>mygateway</th>\n",
       "      <td>652</td>\n",
       "    </tr>\n",
       "    <tr>\n",
       "      <th>internetbanking</th>\n",
       "      <td>286</td>\n",
       "    </tr>\n",
       "    <tr>\n",
       "      <th>mcblite</th>\n",
       "      <td>179</td>\n",
       "    </tr>\n",
       "    <tr>\n",
       "      <th>customercredit</th>\n",
       "      <td>47</td>\n",
       "    </tr>\n",
       "    <tr>\n",
       "      <th>productcredit</th>\n",
       "      <td>10</td>\n",
       "    </tr>\n",
       "    <tr>\n",
       "      <th>cashatdoorstep</th>\n",
       "      <td>5</td>\n",
       "    </tr>\n",
       "    <tr>\n",
       "      <th>financesettlement</th>\n",
       "      <td>1</td>\n",
       "    </tr>\n",
       "  </tbody>\n",
       "</table>\n",
       "</div>"
      ],
      "text/plain": [
       "                   payment_method\n",
       "Payaxis                     61267\n",
       "Easypay                     52040\n",
       "cod                         21753\n",
       "jazzwallet                  16933\n",
       "bankalfalah                 16184\n",
       "easypay_voucher             12189\n",
       "Easypay_MA                   9210\n",
       "jazzvoucher                  8472\n",
       "apg                          1361\n",
       "ublcreditcard                 660\n",
       "mygateway                     652\n",
       "internetbanking               286\n",
       "mcblite                       179\n",
       "customercredit                 47\n",
       "productcredit                  10\n",
       "cashatdoorstep                  5\n",
       "financesettlement               1"
      ]
     },
     "execution_count": 33,
     "metadata": {},
     "output_type": "execute_result"
    }
   ],
   "source": [
    "corr_can = data.loc[data[\"status\"] == \"canceled\"][\"payment_method\"].value_counts().to_frame(\"payment_method\")\n",
    "corr_can"
   ]
  },
  {
   "cell_type": "code",
   "execution_count": 34,
   "id": "be2835bc",
   "metadata": {},
   "outputs": [
    {
     "data": {
      "image/png": "[encoded data removed]",
      "text/plain": [
       "<Figure size 864x432 with 1 Axes>"
      ]
     },
     "metadata": {
      "needs_background": "light"
     },
     "output_type": "display_data"
    }
   ],
   "source": [
    "corr_can.plot.bar(figsize = (12,6) , title = \"Payment Methods vs. Canceled Order\" , color='pink')\n",
    "plt.xlabel(\"Payment Methods\")\n",
    "plt.ylabel(\"Number of Canceled Orders\")\n",
    "plt.show()"
   ]
  },
  {
   "cell_type": "markdown",
   "id": "f8310ce4",
   "metadata": {},
   "source": [
    "2.c.  corelation between refunded orders and Payment Methods"
   ]
  },
  {
   "cell_type": "code",
   "execution_count": 35,
   "id": "a46eaea8",
   "metadata": {},
   "outputs": [
    {
     "data": {
      "text/html": [
       "<div>\n",
       "<style scoped>\n",
       "    .dataframe tbody tr th:only-of-type {\n",
       "        vertical-align: middle;\n",
       "    }\n",
       "\n",
       "    .dataframe tbody tr th {\n",
       "        vertical-align: top;\n",
       "    }\n",
       "\n",
       "    .dataframe thead th {\n",
       "        text-align: right;\n",
       "    }\n",
       "</style>\n",
       "<table border=\"1\" class=\"dataframe\">\n",
       "  <thead>\n",
       "    <tr style=\"text-align: right;\">\n",
       "      <th></th>\n",
       "      <th>payment_method</th>\n",
       "    </tr>\n",
       "  </thead>\n",
       "  <tbody>\n",
       "    <tr>\n",
       "      <th>cod</th>\n",
       "      <td>48771</td>\n",
       "    </tr>\n",
       "    <tr>\n",
       "      <th>Payaxis</th>\n",
       "      <td>3813</td>\n",
       "    </tr>\n",
       "    <tr>\n",
       "      <th>Easypay</th>\n",
       "      <td>2622</td>\n",
       "    </tr>\n",
       "    <tr>\n",
       "      <th>customercredit</th>\n",
       "      <td>1269</td>\n",
       "    </tr>\n",
       "    <tr>\n",
       "      <th>jazzwallet</th>\n",
       "      <td>835</td>\n",
       "    </tr>\n",
       "    <tr>\n",
       "      <th>bankalfalah</th>\n",
       "      <td>746</td>\n",
       "    </tr>\n",
       "    <tr>\n",
       "      <th>easypay_voucher</th>\n",
       "      <td>480</td>\n",
       "    </tr>\n",
       "    <tr>\n",
       "      <th>jazzvoucher</th>\n",
       "      <td>412</td>\n",
       "    </tr>\n",
       "    <tr>\n",
       "      <th>Easypay_MA</th>\n",
       "      <td>315</td>\n",
       "    </tr>\n",
       "    <tr>\n",
       "      <th>mcblite</th>\n",
       "      <td>137</td>\n",
       "    </tr>\n",
       "    <tr>\n",
       "      <th>apg</th>\n",
       "      <td>42</td>\n",
       "    </tr>\n",
       "    <tr>\n",
       "      <th>cashatdoorstep</th>\n",
       "      <td>30</td>\n",
       "    </tr>\n",
       "    <tr>\n",
       "      <th>ublcreditcard</th>\n",
       "      <td>21</td>\n",
       "    </tr>\n",
       "    <tr>\n",
       "      <th>internetbanking</th>\n",
       "      <td>16</td>\n",
       "    </tr>\n",
       "    <tr>\n",
       "      <th>productcredit</th>\n",
       "      <td>15</td>\n",
       "    </tr>\n",
       "    <tr>\n",
       "      <th>mygateway</th>\n",
       "      <td>3</td>\n",
       "    </tr>\n",
       "    <tr>\n",
       "      <th>financesettlement</th>\n",
       "      <td>1</td>\n",
       "    </tr>\n",
       "    <tr>\n",
       "      <th>marketingexpense</th>\n",
       "      <td>1</td>\n",
       "    </tr>\n",
       "  </tbody>\n",
       "</table>\n",
       "</div>"
      ],
      "text/plain": [
       "                   payment_method\n",
       "cod                         48771\n",
       "Payaxis                      3813\n",
       "Easypay                      2622\n",
       "customercredit               1269\n",
       "jazzwallet                    835\n",
       "bankalfalah                   746\n",
       "easypay_voucher               480\n",
       "jazzvoucher                   412\n",
       "Easypay_MA                    315\n",
       "mcblite                       137\n",
       "apg                            42\n",
       "cashatdoorstep                 30\n",
       "ublcreditcard                  21\n",
       "internetbanking                16\n",
       "productcredit                  15\n",
       "mygateway                       3\n",
       "financesettlement               1\n",
       "marketingexpense                1"
      ]
     },
     "execution_count": 35,
     "metadata": {},
     "output_type": "execute_result"
    }
   ],
   "source": [
    "corr_ord_ref = data.loc[data[\"status\"] == \"order_refunded\"][\"payment_method\"].value_counts().to_frame(\"payment_method\")\n",
    "corr_ord_ref"
   ]
  },
  {
   "cell_type": "code",
   "execution_count": 36,
   "id": "df34f579",
   "metadata": {},
   "outputs": [
    {
     "data": {
      "image/png": "[encoded data removed]",
      "text/plain": [
       "<Figure size 864x432 with 1 Axes>"
      ]
     },
     "metadata": {
      "needs_background": "light"
     },
     "output_type": "display_data"
    }
   ],
   "source": [
    "corr_ord_ref.plot.bar(figsize = (12,6) , title = \"Payment Methods vs. Refunded Order\",color = 'pink')\n",
    "plt.xlabel(\"Payment Methods\")\n",
    "plt.ylabel(\"Number of Refunded Orders\")\n",
    "plt.show()"
   ]
  },
  {
   "cell_type": "markdown",
   "id": "49d1923d",
   "metadata": {},
   "source": [
    " 2. d. corelation between Recieved orders and Payment Methods"
   ]
  },
  {
   "cell_type": "code",
   "execution_count": 37,
   "id": "a8bccb18",
   "metadata": {},
   "outputs": [
    {
     "data": {
      "text/html": [
       "<div>\n",
       "<style scoped>\n",
       "    .dataframe tbody tr th:only-of-type {\n",
       "        vertical-align: middle;\n",
       "    }\n",
       "\n",
       "    .dataframe tbody tr th {\n",
       "        vertical-align: top;\n",
       "    }\n",
       "\n",
       "    .dataframe thead th {\n",
       "        text-align: right;\n",
       "    }\n",
       "</style>\n",
       "<table border=\"1\" class=\"dataframe\">\n",
       "  <thead>\n",
       "    <tr style=\"text-align: right;\">\n",
       "      <th></th>\n",
       "      <th>payment_method</th>\n",
       "    </tr>\n",
       "  </thead>\n",
       "  <tbody>\n",
       "    <tr>\n",
       "      <th>cod</th>\n",
       "      <td>44555</td>\n",
       "    </tr>\n",
       "    <tr>\n",
       "      <th>Payaxis</th>\n",
       "      <td>8709</td>\n",
       "    </tr>\n",
       "    <tr>\n",
       "      <th>Easypay</th>\n",
       "      <td>8036</td>\n",
       "    </tr>\n",
       "    <tr>\n",
       "      <th>bankalfalah</th>\n",
       "      <td>5166</td>\n",
       "    </tr>\n",
       "    <tr>\n",
       "      <th>jazzwallet</th>\n",
       "      <td>3416</td>\n",
       "    </tr>\n",
       "    <tr>\n",
       "      <th>easypay_voucher</th>\n",
       "      <td>2147</td>\n",
       "    </tr>\n",
       "    <tr>\n",
       "      <th>jazzvoucher</th>\n",
       "      <td>1993</td>\n",
       "    </tr>\n",
       "    <tr>\n",
       "      <th>customercredit</th>\n",
       "      <td>1740</td>\n",
       "    </tr>\n",
       "    <tr>\n",
       "      <th>Easypay_MA</th>\n",
       "      <td>1208</td>\n",
       "    </tr>\n",
       "    <tr>\n",
       "      <th>apg</th>\n",
       "      <td>305</td>\n",
       "    </tr>\n",
       "    <tr>\n",
       "      <th>ublcreditcard</th>\n",
       "      <td>6</td>\n",
       "    </tr>\n",
       "    <tr>\n",
       "      <th>cashatdoorstep</th>\n",
       "      <td>5</td>\n",
       "    </tr>\n",
       "    <tr>\n",
       "      <th>mcblite</th>\n",
       "      <td>2</td>\n",
       "    </tr>\n",
       "    <tr>\n",
       "      <th>marketingexpense</th>\n",
       "      <td>2</td>\n",
       "    </tr>\n",
       "  </tbody>\n",
       "</table>\n",
       "</div>"
      ],
      "text/plain": [
       "                  payment_method\n",
       "cod                        44555\n",
       "Payaxis                     8709\n",
       "Easypay                     8036\n",
       "bankalfalah                 5166\n",
       "jazzwallet                  3416\n",
       "easypay_voucher             2147\n",
       "jazzvoucher                 1993\n",
       "customercredit              1740\n",
       "Easypay_MA                  1208\n",
       "apg                          305\n",
       "ublcreditcard                  6\n",
       "cashatdoorstep                 5\n",
       "mcblite                        2\n",
       "marketingexpense               2"
      ]
     },
     "execution_count": 37,
     "metadata": {},
     "output_type": "execute_result"
    }
   ],
   "source": [
    "corr_received = data.loc[data[\"status\"] == \"received\"][\"payment_method\"].value_counts().to_frame(\"payment_method\")\n",
    "corr_received"
   ]
  },
  {
   "cell_type": "code",
   "execution_count": 38,
   "id": "de60941f",
   "metadata": {},
   "outputs": [
    {
     "data": {
      "image/png": "[encoded data removed]",
      "text/plain": [
       "<Figure size 864x432 with 1 Axes>"
      ]
     },
     "metadata": {
      "needs_background": "light"
     },
     "output_type": "display_data"
    }
   ],
   "source": [
    "corr_received.plot.bar(figsize = (12,6) , title = \"Payment Methods vs Received Orders\" , color = 'pink')\n",
    "plt.xlabel(\"Payment Methods\")\n",
    "plt.ylabel(\"Number of Received Orders\")\n",
    "plt.show()"
   ]
  },
  {
   "cell_type": "markdown",
   "id": "cce89940",
   "metadata": {},
   "source": [
    "2. e. corelation between order refund and Payment Methods¶"
   ]
  },
  {
   "cell_type": "code",
   "execution_count": 39,
   "id": "efdc7438",
   "metadata": {},
   "outputs": [
    {
     "data": {
      "text/html": [
       "<div>\n",
       "<style scoped>\n",
       "    .dataframe tbody tr th:only-of-type {\n",
       "        vertical-align: middle;\n",
       "    }\n",
       "\n",
       "    .dataframe tbody tr th {\n",
       "        vertical-align: top;\n",
       "    }\n",
       "\n",
       "    .dataframe thead th {\n",
       "        text-align: right;\n",
       "    }\n",
       "</style>\n",
       "<table border=\"1\" class=\"dataframe\">\n",
       "  <thead>\n",
       "    <tr style=\"text-align: right;\">\n",
       "      <th></th>\n",
       "      <th>payment_method</th>\n",
       "    </tr>\n",
       "  </thead>\n",
       "  <tbody>\n",
       "    <tr>\n",
       "      <th>cod</th>\n",
       "      <td>5568</td>\n",
       "    </tr>\n",
       "    <tr>\n",
       "      <th>Easypay</th>\n",
       "      <td>729</td>\n",
       "    </tr>\n",
       "    <tr>\n",
       "      <th>Payaxis</th>\n",
       "      <td>553</td>\n",
       "    </tr>\n",
       "    <tr>\n",
       "      <th>jazzwallet</th>\n",
       "      <td>292</td>\n",
       "    </tr>\n",
       "    <tr>\n",
       "      <th>easypay_voucher</th>\n",
       "      <td>241</td>\n",
       "    </tr>\n",
       "    <tr>\n",
       "      <th>customercredit</th>\n",
       "      <td>223</td>\n",
       "    </tr>\n",
       "    <tr>\n",
       "      <th>Easypay_MA</th>\n",
       "      <td>144</td>\n",
       "    </tr>\n",
       "    <tr>\n",
       "      <th>jazzvoucher</th>\n",
       "      <td>117</td>\n",
       "    </tr>\n",
       "    <tr>\n",
       "      <th>bankalfalah</th>\n",
       "      <td>114</td>\n",
       "    </tr>\n",
       "    <tr>\n",
       "      <th>cashatdoorstep</th>\n",
       "      <td>18</td>\n",
       "    </tr>\n",
       "    <tr>\n",
       "      <th>productcredit</th>\n",
       "      <td>15</td>\n",
       "    </tr>\n",
       "    <tr>\n",
       "      <th>mcblite</th>\n",
       "      <td>11</td>\n",
       "    </tr>\n",
       "    <tr>\n",
       "      <th>internetbanking</th>\n",
       "      <td>10</td>\n",
       "    </tr>\n",
       "    <tr>\n",
       "      <th>ublcreditcard</th>\n",
       "      <td>8</td>\n",
       "    </tr>\n",
       "    <tr>\n",
       "      <th>financesettlement</th>\n",
       "      <td>4</td>\n",
       "    </tr>\n",
       "    <tr>\n",
       "      <th>apg</th>\n",
       "      <td>3</td>\n",
       "    </tr>\n",
       "  </tbody>\n",
       "</table>\n",
       "</div>"
      ],
      "text/plain": [
       "                   payment_method\n",
       "cod                          5568\n",
       "Easypay                       729\n",
       "Payaxis                       553\n",
       "jazzwallet                    292\n",
       "easypay_voucher               241\n",
       "customercredit                223\n",
       "Easypay_MA                    144\n",
       "jazzvoucher                   117\n",
       "bankalfalah                   114\n",
       "cashatdoorstep                 18\n",
       "productcredit                  15\n",
       "mcblite                        11\n",
       "internetbanking                10\n",
       "ublcreditcard                   8\n",
       "financesettlement               4\n",
       "apg                             3"
      ]
     },
     "execution_count": 39,
     "metadata": {},
     "output_type": "execute_result"
    }
   ],
   "source": [
    "corr_refund = data.loc[data[\"status\"] == \"refund\"][\"payment_method\"].value_counts().to_frame(\"payment_method\")\n",
    "corr_refund"
   ]
  },
  {
   "cell_type": "code",
   "execution_count": 40,
   "id": "297bca01",
   "metadata": {},
   "outputs": [
    {
     "data": {
      "image/png": "[encoded data removed]",
      "text/plain": [
       "<Figure size 864x432 with 1 Axes>"
      ]
     },
     "metadata": {
      "needs_background": "light"
     },
     "output_type": "display_data"
    }
   ],
   "source": [
    "corr_refund.plot.bar(figsize = (12,6) , title = \"Payment Methods vs Order Refund\",color = 'pink')\n",
    "plt.xlabel(\"Payment Methods\")\n",
    "plt.ylabel(\"Number of Refund Orders\")\n",
    "plt.show()"
   ]
  },
  {
   "cell_type": "markdown",
   "id": "7f9dc865",
   "metadata": {},
   "source": [
    "# Univariate Analysis"
   ]
  },
  {
   "cell_type": "markdown",
   "id": "c18f1207",
   "metadata": {},
   "source": [
    "1. Best Selling Category\n"
   ]
  },
  {
   "cell_type": "code",
   "execution_count": 41,
   "id": "1f8816e6",
   "metadata": {},
   "outputs": [
    {
     "data": {
      "text/plain": [
       "Mobiles & Tablets     115710\n",
       "Men's Fashion          92221\n",
       "Women's Fashion        59721\n",
       "Appliances             52413\n",
       "Superstore             43613\n",
       "Beauty & Grooming      41496\n",
       "Soghaat                34011\n",
       "Others                 29218\n",
       "Home & Living          26504\n",
       "Entertainment          26326\n",
       "Health & Sports        17502\n",
       "Kids & Baby            16494\n",
       "Computing              15933\n",
       "\\N                      7850\n",
       "School & Education      3478\n",
       "Books                   1870\n",
       "Name: Category, dtype: int64"
      ]
     },
     "execution_count": 41,
     "metadata": {},
     "output_type": "execute_result"
    }
   ],
   "source": [
    "data[\"Category\"].value_counts()"
   ]
  },
  {
   "cell_type": "code",
   "execution_count": 42,
   "id": "0ba86e47",
   "metadata": {},
   "outputs": [
    {
     "data": {
      "image/png": "[encoded data removed]",
      "text/plain": [
       "<Figure size 864x432 with 1 Axes>"
      ]
     },
     "metadata": {
      "needs_background": "light"
     },
     "output_type": "display_data"
    }
   ],
   "source": [
    "data[\"Category\"].value_counts().plot.bar(figsize = (12,6) , title = \"Best Selling categories\",color='pink')\n",
    "plt.ylabel(\"Total Order\")\n",
    "plt.show()"
   ]
  },
  {
   "cell_type": "markdown",
   "id": "a77630d8",
   "metadata": {},
   "source": [
    "2.Most popular payment method"
   ]
  },
  {
   "cell_type": "code",
   "execution_count": 43,
   "id": "22f5ab51",
   "metadata": {},
   "outputs": [
    {
     "data": {
      "text/plain": [
       "cod                  271960\n",
       "Payaxis               97641\n",
       "Easypay               82900\n",
       "jazzwallet            35145\n",
       "easypay_voucher       31176\n",
       "bankalfalah           23065\n",
       "jazzvoucher           15633\n",
       "Easypay_MA            14028\n",
       "customercredit         7555\n",
       "apg                    1758\n",
       "ublcreditcard           882\n",
       "cashatdoorstep          732\n",
       "mcblite                 723\n",
       "mygateway               669\n",
       "internetbanking         472\n",
       "productcredit           125\n",
       "marketingexpense         45\n",
       "financesettlement        15\n",
       "Name: payment_method, dtype: int64"
      ]
     },
     "execution_count": 43,
     "metadata": {},
     "output_type": "execute_result"
    }
   ],
   "source": [
    "data['payment_method'].value_counts()"
   ]
  },
  {
   "cell_type": "code",
   "execution_count": 44,
   "id": "457bcb1b",
   "metadata": {},
   "outputs": [
    {
     "name": "stderr",
     "output_type": "stream",
     "text": [
      "C:\\Users\\Revathi\\anaconda3\\lib\\site-packages\\seaborn\\_decorators.py:36: FutureWarning: Pass the following variable as a keyword arg: x. From version 0.12, the only valid positional argument will be `data`, and passing other arguments without an explicit keyword will result in an error or misinterpretation.\n",
      "  warnings.warn(\n"
     ]
    },
    {
     "data": {
      "image/png": "[encoded data removed]",
      "text/plain": [
       "<Figure size 432x288 with 1 Axes>"
      ]
     },
     "metadata": {
      "needs_background": "light"
     },
     "output_type": "display_data"
    }
   ],
   "source": [
    "chart = sns.countplot(data['payment_method'])\n",
    "\n",
    "chart.set_xticklabels(chart.get_xticklabels(), rotation=60, horizontalalignment='right')\n",
    "plt.show()"
   ]
  },
  {
   "cell_type": "markdown",
   "id": "f5e1432c",
   "metadata": {},
   "source": [
    "3. Whether customers complete their order or not(customer status)"
   ]
  },
  {
   "cell_type": "code",
   "execution_count": 45,
   "id": "155be38c",
   "metadata": {},
   "outputs": [
    {
     "data": {
      "text/plain": [
       "complete          233685\n",
       "canceled          201249\n",
       "received           77290\n",
       "order_refunded     59529\n",
       "refund              8050\n",
       "cod                 2859\n",
       "paid                1159\n",
       "closed               494\n",
       "payment_review        57\n",
       "pending               48\n",
       "processing            33\n",
       "holded                31\n",
       "fraud                 10\n",
       "pending_paypal         7\n",
       "\\N                     4\n",
       "exchange               4\n",
       "Name: status, dtype: int64"
      ]
     },
     "execution_count": 45,
     "metadata": {},
     "output_type": "execute_result"
    }
   ],
   "source": [
    "data['status'].value_counts()\n"
   ]
  },
  {
   "cell_type": "code",
   "execution_count": 46,
   "id": "6dffc381",
   "metadata": {},
   "outputs": [
    {
     "name": "stderr",
     "output_type": "stream",
     "text": [
      "C:\\Users\\Revathi\\anaconda3\\lib\\site-packages\\seaborn\\_decorators.py:36: FutureWarning: Pass the following variable as a keyword arg: x. From version 0.12, the only valid positional argument will be `data`, and passing other arguments without an explicit keyword will result in an error or misinterpretation.\n",
      "  warnings.warn(\n"
     ]
    },
    {
     "data": {
      "image/png": "[encoded data removed]",
      "text/plain": [
       "<Figure size 432x288 with 1 Axes>"
      ]
     },
     "metadata": {
      "needs_background": "light"
     },
     "output_type": "display_data"
    }
   ],
   "source": [
    "chart = sns.countplot(data['status'])\n",
    "\n",
    "chart.set_xticklabels(chart.get_xticklabels(), rotation=60, horizontalalignment='right')\n",
    "plt.show()"
   ]
  },
  {
   "cell_type": "markdown",
   "id": "c9f56cdc",
   "metadata": {},
   "source": [
    "# Bi-variate Analysis"
   ]
  },
  {
   "cell_type": "code",
   "execution_count": 47,
   "id": "b099082a",
   "metadata": {},
   "outputs": [
    {
     "data": {
      "image/png": "[encoded data removed]",
      "text/plain": [
       "<Figure size 432x288 with 1 Axes>"
      ]
     },
     "metadata": {
      "needs_background": "light"
     },
     "output_type": "display_data"
    }
   ],
   "source": [
    "#Which item in category is more profitable?\n",
    "chart = sns.barplot(x=data['Category'], y=data['price'])\n",
    "\n",
    "chart.set_xticklabels(chart.get_xticklabels(), rotation=30, horizontalalignment='right')\n",
    "plt.show()"
   ]
  },
  {
   "cell_type": "markdown",
   "id": "5bc869cd",
   "metadata": {},
   "source": [
    "Insight: Entertainment category is looking more profitable and this includes Smart TV's, projectors, playstation etc."
   ]
  },
  {
   "cell_type": "code",
   "execution_count": 48,
   "id": "1cfd0fd1",
   "metadata": {},
   "outputs": [
    {
     "data": {
      "text/html": [
       "<div>\n",
       "<style scoped>\n",
       "    .dataframe tbody tr th:only-of-type {\n",
       "        vertical-align: middle;\n",
       "    }\n",
       "\n",
       "    .dataframe tbody tr th {\n",
       "        vertical-align: top;\n",
       "    }\n",
       "\n",
       "    .dataframe thead th {\n",
       "        text-align: right;\n",
       "    }\n",
       "</style>\n",
       "<table border=\"1\" class=\"dataframe\">\n",
       "  <thead>\n",
       "    <tr style=\"text-align: right;\">\n",
       "      <th></th>\n",
       "      <th>item_id</th>\n",
       "      <th>price</th>\n",
       "      <th>qty_ordered</th>\n",
       "      <th>grand_total</th>\n",
       "      <th>discount_amount</th>\n",
       "      <th>Year</th>\n",
       "      <th>sales</th>\n",
       "    </tr>\n",
       "    <tr>\n",
       "      <th>Month</th>\n",
       "      <th></th>\n",
       "      <th></th>\n",
       "      <th></th>\n",
       "      <th></th>\n",
       "      <th></th>\n",
       "      <th></th>\n",
       "      <th></th>\n",
       "    </tr>\n",
       "  </thead>\n",
       "  <tbody>\n",
       "    <tr>\n",
       "      <th>1</th>\n",
       "      <td>1.452768e+10</td>\n",
       "      <td>1.608541e+08</td>\n",
       "      <td>31880.0</td>\n",
       "      <td>2.076232e+08</td>\n",
       "      <td>4.963070e+06</td>\n",
       "      <td>52590011.0</td>\n",
       "      <td>1.713241e+08</td>\n",
       "    </tr>\n",
       "    <tr>\n",
       "      <th>2</th>\n",
       "      <td>2.508108e+10</td>\n",
       "      <td>3.256175e+08</td>\n",
       "      <td>50544.0</td>\n",
       "      <td>4.082264e+08</td>\n",
       "      <td>4.591434e+07</td>\n",
       "      <td>78240125.0</td>\n",
       "      <td>3.713247e+08</td>\n",
       "    </tr>\n",
       "    <tr>\n",
       "      <th>3</th>\n",
       "      <td>4.158009e+10</td>\n",
       "      <td>3.787773e+08</td>\n",
       "      <td>109640.0</td>\n",
       "      <td>5.603449e+08</td>\n",
       "      <td>2.812043e+07</td>\n",
       "      <td>124065268.0</td>\n",
       "      <td>4.964247e+08</td>\n",
       "    </tr>\n",
       "    <tr>\n",
       "      <th>4</th>\n",
       "      <td>1.999721e+10</td>\n",
       "      <td>1.830277e+08</td>\n",
       "      <td>50043.0</td>\n",
       "      <td>2.730674e+08</td>\n",
       "      <td>5.042748e+06</td>\n",
       "      <td>68773960.0</td>\n",
       "      <td>2.047471e+08</td>\n",
       "    </tr>\n",
       "    <tr>\n",
       "      <th>5</th>\n",
       "      <td>4.037877e+10</td>\n",
       "      <td>5.463483e+08</td>\n",
       "      <td>81569.0</td>\n",
       "      <td>7.072266e+08</td>\n",
       "      <td>5.572321e+07</td>\n",
       "      <td>126298118.0</td>\n",
       "      <td>6.151799e+08</td>\n",
       "    </tr>\n",
       "    <tr>\n",
       "      <th>6</th>\n",
       "      <td>2.301186e+10</td>\n",
       "      <td>2.263588e+08</td>\n",
       "      <td>51319.0</td>\n",
       "      <td>4.725649e+08</td>\n",
       "      <td>6.481542e+06</td>\n",
       "      <td>69661747.0</td>\n",
       "      <td>3.267746e+08</td>\n",
       "    </tr>\n",
       "    <tr>\n",
       "      <th>7</th>\n",
       "      <td>2.202541e+10</td>\n",
       "      <td>2.488991e+08</td>\n",
       "      <td>47768.0</td>\n",
       "      <td>3.894242e+08</td>\n",
       "      <td>2.837929e+06</td>\n",
       "      <td>78969769.0</td>\n",
       "      <td>2.994469e+08</td>\n",
       "    </tr>\n",
       "    <tr>\n",
       "      <th>8</th>\n",
       "      <td>2.743118e+10</td>\n",
       "      <td>2.395842e+08</td>\n",
       "      <td>62877.0</td>\n",
       "      <td>3.473267e+08</td>\n",
       "      <td>1.195999e+07</td>\n",
       "      <td>97853099.0</td>\n",
       "      <td>2.594756e+08</td>\n",
       "    </tr>\n",
       "    <tr>\n",
       "      <th>9</th>\n",
       "      <td>8.791540e+09</td>\n",
       "      <td>1.269734e+08</td>\n",
       "      <td>27133.0</td>\n",
       "      <td>1.622652e+08</td>\n",
       "      <td>6.909233e+06</td>\n",
       "      <td>48440975.0</td>\n",
       "      <td>1.345025e+08</td>\n",
       "    </tr>\n",
       "    <tr>\n",
       "      <th>10</th>\n",
       "      <td>1.388194e+10</td>\n",
       "      <td>1.736796e+08</td>\n",
       "      <td>36552.0</td>\n",
       "      <td>2.175180e+08</td>\n",
       "      <td>1.055459e+07</td>\n",
       "      <td>61753467.0</td>\n",
       "      <td>1.846102e+08</td>\n",
       "    </tr>\n",
       "    <tr>\n",
       "      <th>11</th>\n",
       "      <td>7.770110e+10</td>\n",
       "      <td>9.705016e+08</td>\n",
       "      <td>168872.0</td>\n",
       "      <td>1.067883e+09</td>\n",
       "      <td>1.120052e+08</td>\n",
       "      <td>313483224.0</td>\n",
       "      <td>9.929596e+08</td>\n",
       "    </tr>\n",
       "    <tr>\n",
       "      <th>12</th>\n",
       "      <td>1.623813e+10</td>\n",
       "      <td>1.303738e+08</td>\n",
       "      <td>39573.0</td>\n",
       "      <td>1.728805e+08</td>\n",
       "      <td>1.453225e+06</td>\n",
       "      <td>58880931.0</td>\n",
       "      <td>1.385381e+08</td>\n",
       "    </tr>\n",
       "  </tbody>\n",
       "</table>\n",
       "</div>"
      ],
      "text/plain": [
       "            item_id         price  qty_ordered   grand_total  discount_amount  \\\n",
       "Month                                                                           \n",
       "1      1.452768e+10  1.608541e+08      31880.0  2.076232e+08     4.963070e+06   \n",
       "2      2.508108e+10  3.256175e+08      50544.0  4.082264e+08     4.591434e+07   \n",
       "3      4.158009e+10  3.787773e+08     109640.0  5.603449e+08     2.812043e+07   \n",
       "4      1.999721e+10  1.830277e+08      50043.0  2.730674e+08     5.042748e+06   \n",
       "5      4.037877e+10  5.463483e+08      81569.0  7.072266e+08     5.572321e+07   \n",
       "6      2.301186e+10  2.263588e+08      51319.0  4.725649e+08     6.481542e+06   \n",
       "7      2.202541e+10  2.488991e+08      47768.0  3.894242e+08     2.837929e+06   \n",
       "8      2.743118e+10  2.395842e+08      62877.0  3.473267e+08     1.195999e+07   \n",
       "9      8.791540e+09  1.269734e+08      27133.0  1.622652e+08     6.909233e+06   \n",
       "10     1.388194e+10  1.736796e+08      36552.0  2.175180e+08     1.055459e+07   \n",
       "11     7.770110e+10  9.705016e+08     168872.0  1.067883e+09     1.120052e+08   \n",
       "12     1.623813e+10  1.303738e+08      39573.0  1.728805e+08     1.453225e+06   \n",
       "\n",
       "              Year         sales  \n",
       "Month                             \n",
       "1       52590011.0  1.713241e+08  \n",
       "2       78240125.0  3.713247e+08  \n",
       "3      124065268.0  4.964247e+08  \n",
       "4       68773960.0  2.047471e+08  \n",
       "5      126298118.0  6.151799e+08  \n",
       "6       69661747.0  3.267746e+08  \n",
       "7       78969769.0  2.994469e+08  \n",
       "8       97853099.0  2.594756e+08  \n",
       "9       48440975.0  1.345025e+08  \n",
       "10      61753467.0  1.846102e+08  \n",
       "11     313483224.0  9.929596e+08  \n",
       "12      58880931.0  1.385381e+08  "
      ]
     },
     "execution_count": 48,
     "metadata": {},
     "output_type": "execute_result"
    }
   ],
   "source": [
    "#In which month the earning/sales was maximum?\n",
    "data['sales'] = data['qty_ordered'] * data['price']\n",
    "results = data.groupby('Month').sum() #addition of columns are done w.r.t months\n",
    "results"
   ]
  },
  {
   "cell_type": "code",
   "execution_count": 49,
   "id": "3a5016a3",
   "metadata": {},
   "outputs": [
    {
     "data": {
      "image/png": "[encoded data removed]",
      "text/plain": [
       "<Figure size 432x288 with 1 Axes>"
      ]
     },
     "metadata": {
      "needs_background": "light"
     },
     "output_type": "display_data"
    }
   ],
   "source": [
    "months = range(1,13) # 13 is excluded\n",
    "\n",
    "plt.bar(months, results['sales']) # months on y-axis and results on x-axis\n",
    "plt.xticks(months)  # ticks are showing here\n",
    "plt.ylabel('Sales in Rupees')\n",
    "plt.xlabel('Month Number')\n",
    "plt.show()"
   ]
  },
  {
   "cell_type": "markdown",
   "id": "d96179ff",
   "metadata": {},
   "source": [
    "Insight:  The sales was maximum in 11th month(november) in Pakistan from year 2016-2019"
   ]
  },
  {
   "cell_type": "code",
   "execution_count": null,
   "id": "f17c62ee",
   "metadata": {},
   "outputs": [],
   "source": []
  },
  {
   "cell_type": "code",
   "execution_count": null,
   "id": "bd29a398",
   "metadata": {},
   "outputs": [],
   "source": [
    "\n"
   ]
  },
  {
   "cell_type": "code",
   "execution_count": null,
   "id": "05e885cd",
   "metadata": {},
   "outputs": [],
   "source": []
  },
  {
   "cell_type": "code",
   "execution_count": null,
   "id": "55fb6002",
   "metadata": {},
   "outputs": [],
   "source": [
    "\n",
    "\n"
   ]
  },
  {
   "cell_type": "code",
   "execution_count": null,
   "id": "6904d3d4",
   "metadata": {},
   "outputs": [],
   "source": []
  },
  {
   "cell_type": "code",
   "execution_count": null,
   "id": "27cdb1d0",
   "metadata": {},
   "outputs": [],
   "source": []
  },
  {
   "cell_type": "code",
   "execution_count": null,
   "id": "48b0b442",
   "metadata": {},
   "outputs": [],
   "source": []
  },
  {
   "cell_type": "code",
   "execution_count": null,
   "id": "6537bcac",
   "metadata": {},
   "outputs": [],
   "source": []
  },
  {
   "cell_type": "code",
   "execution_count": null,
   "id": "ae4f8be8",
   "metadata": {},
   "outputs": [],
   "source": []
  },
  {
   "cell_type": "code",
   "execution_count": null,
   "id": "818785b5",
   "metadata": {},
   "outputs": [],
   "source": [
    "\n"
   ]
  },
  {
   "cell_type": "code",
   "execution_count": null,
   "id": "2086b538",
   "metadata": {},
   "outputs": [],
   "source": []
  }
 ],
 "metadata": {
  "kernelspec": {
   "display_name": "Python 3",
   "language": "python",
   "name": "python3"
  },
  "language_info": {
   "codemirror_mode": {
    "name": "ipython",
    "version": 3
   },
   "file_extension": ".py",
   "mimetype": "text/x-python",
   "name": "python",
   "nbconvert_exporter": "python",
   "pygments_lexer": "ipython3",
   "version": "3.8.8"
  }
 },
 "nbformat": 4,
 "nbformat_minor": 5
}
